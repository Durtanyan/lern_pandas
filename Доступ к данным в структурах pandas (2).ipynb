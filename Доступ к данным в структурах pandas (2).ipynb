{
 "cells": [
  {
   "cell_type": "markdown",
   "metadata": {},
   "source": [
    "2.1 Два подхода получения доступа к данным в pandas\n",
    "---------------------------------------------------------------------------------\n",
    "При работе со структурами Series и DataFrame, как правило, используют\n",
    "два основных способа получения значений элементов.\n",
    "Первый способ\n",
    "------------------------\n",
    "основан на использовании меток, в этом случае работа\n",
    "ведется через метод .loc. Если вы обращаетесь к отсутствующей метке,\n",
    "то будет сгенерировано исключение KeyError. Такой подход позволяет\n",
    "использовать:\n",
    "    \n",
    "• метки в виде отдельных символов ['a'] или чисел [5], числа\n",
    "используются в качестве меток, если при создании структуры не\n",
    "был указан список с метками;\n",
    "\n",
    "• список меток ['a', 'b', 'c'];\n",
    "\n",
    "• срез меток ['a':'c'];\n",
    "\n",
    "• массив логических переменных;\n",
    "\n",
    "• callable-функция с одним аргументом.\n",
    "\n",
    "Второй способ\n",
    "--------------\n",
    "основан на использовании целых чисел для доступа к\n",
    "данных, он предоставляется через метод .iloc. Если вы обращаетесь к\n",
    "несуществующему элементу, то будет сгенерировано исключение\n",
    "IndexError. Логика использования .iloc очень похожа на работу с\n",
    ".loc. При таком подходе можно использовать:\n",
    "    \n",
    "• отдельные целые числа для доступа к элементам структуры;\n",
    "\n",
    "• массивы целых чисел [0, 1, 2];\n",
    "\n",
    "• срезы целых чисел [1:4];\n",
    "\n",
    "• массивы логических переменных;\n",
    "\n",
    "• callable-функцию с одним аргументом.\n",
    "\n",
    "В зависимости от типа структуры, будет меняться форма .loc:\n",
    "    \n",
    "• для Series, она выглядит так: s.loc[indexer];\n",
    "    \n",
    "• для DataFrame так: df.loc[row_indexer, column_indexer].\n",
    "    \n",
    "Создадим объекты типов Series и DataFrame, которые в дальнейшем\n",
    "будут использованы нами для экспериментов."
   ]
  },
  {
   "cell_type": "code",
   "execution_count": 2,
   "metadata": {},
   "outputs": [],
   "source": [
    "import pandas as pd\n",
    "import numpy as np"
   ]
  },
  {
   "cell_type": "code",
   "execution_count": 6,
   "metadata": {},
   "outputs": [
    {
     "name": "stdout",
     "output_type": "stream",
     "text": [
      "10\n",
      "a    10\n",
      "b    20\n",
      "c    30\n",
      "d    40\n",
      "e    50\n",
      "dtype: int64\n"
     ]
    }
   ],
   "source": [
    "#Структура Series:\n",
    "s = pd.Series([10, 20, 30, 40, 50], ['a', 'b', 'c', 'd', 'e'])\n",
    "print(s['a'])\n",
    "print(s)"
   ]
  },
  {
   "cell_type": "code",
   "execution_count": 7,
   "metadata": {},
   "outputs": [
    {
     "data": {
      "text/html": [
       "<div>\n",
       "<style scoped>\n",
       "    .dataframe tbody tr th:only-of-type {\n",
       "        vertical-align: middle;\n",
       "    }\n",
       "\n",
       "    .dataframe tbody tr th {\n",
       "        vertical-align: top;\n",
       "    }\n",
       "\n",
       "    .dataframe thead th {\n",
       "        text-align: right;\n",
       "    }\n",
       "</style>\n",
       "<table border=\"1\" class=\"dataframe\">\n",
       "  <thead>\n",
       "    <tr style=\"text-align: right;\">\n",
       "      <th></th>\n",
       "      <th>price</th>\n",
       "      <th>count</th>\n",
       "      <th>percent</th>\n",
       "    </tr>\n",
       "  </thead>\n",
       "  <tbody>\n",
       "    <tr>\n",
       "      <td>a</td>\n",
       "      <td>1</td>\n",
       "      <td>10</td>\n",
       "      <td>24</td>\n",
       "    </tr>\n",
       "    <tr>\n",
       "      <td>b</td>\n",
       "      <td>2</td>\n",
       "      <td>20</td>\n",
       "      <td>51</td>\n",
       "    </tr>\n",
       "    <tr>\n",
       "      <td>c</td>\n",
       "      <td>3</td>\n",
       "      <td>30</td>\n",
       "      <td>71</td>\n",
       "    </tr>\n",
       "  </tbody>\n",
       "</table>\n",
       "</div>"
      ],
      "text/plain": [
       "   price  count  percent\n",
       "a      1     10       24\n",
       "b      2     20       51\n",
       "c      3     30       71"
      ]
     },
     "execution_count": 7,
     "metadata": {},
     "output_type": "execute_result"
    }
   ],
   "source": [
    "#Структура DataFrame:\n",
    "d = {'price':[1, 2, 3], 'count': [10, 20, 30], 'percent': [24, 51, 71]}\n",
    "df = pd.DataFrame(d, index=['a', 'b', 'c'])\n",
    "df"
   ]
  },
  {
   "cell_type": "markdown",
   "metadata": {},
   "source": [
    "2.2 Доступ к данным структуры Series\n",
    "------------------------------------\n",
    "2.2.1 Доступ с использованием меток\n",
    "--------------------------------------\n",
    "При использовании меток для доступа к данным можно применять один\n",
    "из следующих подходов:\n",
    "\n",
    "• первый, когда вы записываете имя переменной типа Series и в\n",
    "квадратных скобках указываете метку, по которой хотите\n",
    "обратиться (пример: s['a']);\n",
    "\n",
    "• второй, когда после имени переменной пишите .loc и далее\n",
    "указываете метку в квадратных скобках (пример: s.loc['a']).\n"
   ]
  },
  {
   "cell_type": "code",
   "execution_count": 12,
   "metadata": {},
   "outputs": [
    {
     "data": {
      "text/plain": [
       "10"
      ]
     },
     "execution_count": 12,
     "metadata": {},
     "output_type": "execute_result"
    }
   ],
   "source": [
    "#Обращение по отдельной метке.\n",
    "#Элемент с меткой 'a':\n",
    "s['a']"
   ]
  },
  {
   "cell_type": "code",
   "execution_count": 10,
   "metadata": {},
   "outputs": [
    {
     "data": {
      "text/plain": [
       "a    10\n",
       "c    30\n",
       "e    50\n",
       "dtype: int64"
      ]
     },
     "execution_count": 10,
     "metadata": {},
     "output_type": "execute_result"
    }
   ],
   "source": [
    "#Обращение по массиву меток.\n",
    "#Элементы с метками 'a', 'c' и 'e':\n",
    "s[['a', 'c', 'e']]"
   ]
  },
  {
   "cell_type": "code",
   "execution_count": 13,
   "metadata": {},
   "outputs": [
    {
     "data": {
      "text/plain": [
       "a    10\n",
       "b    20\n",
       "c    30\n",
       "dtype: int64"
      ]
     },
     "execution_count": 13,
     "metadata": {},
     "output_type": "execute_result"
    }
   ],
   "source": [
    "#Обращение по срезу меток.\n",
    "#Элементы структуры с метками от 'a' до 'e':\n",
    "s['a':'c']"
   ]
  },
  {
   "cell_type": "code",
   "execution_count": null,
   "metadata": {},
   "outputs": [],
   "source": []
  }
 ],
 "metadata": {
  "kernelspec": {
   "display_name": "Python 3",
   "language": "python",
   "name": "python3"
  },
  "language_info": {
   "codemirror_mode": {
    "name": "ipython",
    "version": 3
   },
   "file_extension": ".py",
   "mimetype": "text/x-python",
   "name": "python",
   "nbconvert_exporter": "python",
   "pygments_lexer": "ipython3",
   "version": "3.7.4"
  }
 },
 "nbformat": 4,
 "nbformat_minor": 2
}
