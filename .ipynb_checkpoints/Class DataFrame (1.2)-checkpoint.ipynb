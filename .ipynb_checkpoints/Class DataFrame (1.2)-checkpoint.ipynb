{
 "cells": [
  {
   "cell_type": "markdown",
   "metadata": {},
   "source": [
    "Структура данных DataFrame.\n",
    "------------------------------\n",
    "Если Series представляет собой одномерную структуру, которую для\n",
    "себя можно представить, как таблицу с одной строкой, то DataFrame -\n",
    "это уже двумерная структура - полноценная таблица с множеством строк\n",
    "и столбцов.\n",
    "\n",
    "Конструктор класса DataFrame выглядит так:\n",
    "    \n",
    "DataFrame(data=None, index=None, columns=None, dtype=None, copy=False)\n",
    "\n",
    "Параметры конструктора:\n",
    "    \n",
    "• data: ndarray, dict или DataFrame; значение по умолчанию: None\n",
    "        \n",
    ">◦ Данные, на базе которых будет создан DataFrame.\n",
    "\n",
    "• index: одномерный массив; значение по умолчанию: None\n",
    "        \n",
    ">◦ Список меток для записей (имена строк таблицы).\n",
    "\n",
    "• columns: одномерный массив; значение по умолчанию: None\n",
    "        \n",
    ">◦ Список меток для полей (имена столбцов таблицы).\n",
    "\n",
    "• dtype: numpy.dtype; значение по умолчанию: None\n",
    "\n",
    ">◦ Объект, определяющий тип данных.\n",
    "\n",
    "• copy: bool; значение по умолчанию: False\n",
    "        \n",
    ">◦ Если параметр равен True, то будет создана копия массива\n",
    "данных.\n",
    "\n",
    "Структуру DataFrame можно создать на базе следующих типов данных:\n",
    "\n",
    "• словарь (dict), в качестве элементов которого могут выступать:\n",
    "\n",
    ">одномерные ndarray, списки, другие словари, структуры Series;\n",
    "\n",
    "• двумерный ndarray;\n",
    "\n",
    "• структура Series;\n",
    "\n",
    "• другой DataFrame.\n",
    "\n",
    "__________________________________________________________________\n",
    "Создание DataFrame из словаря.\n",
    "-------------------------------------------------------\n",
    "Для создания DataFrame будем использовать словарь, элементами\n",
    "которого могут быть списки, структуры Series и т.д. Начнем со варианта,\n",
    "когда элементы — это структуры Series:\n",
    "\n",
    "> d = {'price':pd.Series([1, 2, 3], index=['v1', 'v2', 'v3']),'count':\n",
    "pd.Series([10, 12, 7], index=['v1', 'v2', 'v3'])}\n",
    "\n",
    "> df1 = pd.DataFrame(d)\n",
    "\n",
    "> print(df1)"
   ]
  },
  {
   "cell_type": "code",
   "execution_count": 8,
   "metadata": {},
   "outputs": [
    {
     "name": "stdout",
     "output_type": "stream",
     "text": [
      "Создание DataFrame из словаря.\n",
      "    price  count\n",
      "v1      1     10\n",
      "v2      2     12\n",
      "v3      3      7\n"
     ]
    }
   ],
   "source": [
    "import pandas as pd\n",
    "import numpy as np\n",
    "\n",
    "d = {'price':pd.Series([1, 2, 3], index=['v1', 'v2', 'v3']),'count': pd.Series([10, 12, 7], index=['v1', 'v2', 'v3'])}\n",
    "df1 = pd.DataFrame(d)\n",
    "print('Создание DataFrame из словаря.')\n",
    "print(df1)"
   ]
  },
  {
   "cell_type": "code",
   "execution_count": 9,
   "metadata": {},
   "outputs": [
    {
     "name": "stdout",
     "output_type": "stream",
     "text": [
      "Index(['v1', 'v2', 'v3'], dtype='object')\n",
      "Index(['price', 'count'], dtype='object')\n"
     ]
    }
   ],
   "source": [
    "#Индексы созданного DataFrame:\n",
    "print(df1.index)\n",
    "\n",
    "#Столбцы созданного DataFrame:\n",
    "print(df1.columns)"
   ]
  },
  {
   "cell_type": "code",
   "execution_count": 10,
   "metadata": {},
   "outputs": [
    {
     "name": "stdout",
     "output_type": "stream",
     "text": [
      "    price  count\n",
      "v1      1     10\n",
      "v2      2     12\n",
      "v3      3      7\n",
      "Index(['v1', 'v2', 'v3'], dtype='object')\n",
      "Index(['price', 'count'], dtype='object')\n"
     ]
    }
   ],
   "source": [
    "#Построим аналогичный словарь, но на элементах ndarray:\n",
    "d2 = {'price':np.array([1, 2, 3]), 'count': np.array([10, 12, 7])}\n",
    "df2 = pd.DataFrame(d2, index=['v1', 'v2', 'v3'])\n",
    "print(df2)\n",
    "print(df2.index)\n",
    "print(df2.columns)\n",
    "#Как видно - результат аналогичен предыдущему. Вместо ndarray можно использовать обычный список Python."
   ]
  },
  {
   "cell_type": "markdown",
   "metadata": {},
   "source": [
    "__________________________________________________________________\n",
    "Создание DataFrame из списка словарей.\n",
    "-------------------------------------------------------------------\n",
    "До этого мы создавали DataFrame из словаря, элементами которого\n",
    "были структуры Series, списки и массивы, сейчас мы создадим\n",
    "DataFrame из списка, элементами которого являются словари:"
   ]
  },
  {
   "cell_type": "code",
   "execution_count": 11,
   "metadata": {},
   "outputs": [
    {
     "name": "stdout",
     "output_type": "stream",
     "text": [
      "   price  count\n",
      "0      3      8\n",
      "1      4     11\n"
     ]
    }
   ],
   "source": [
    "d3 = [{'price': 3, 'count':8}, {'price': 4, 'count': 11}]\n",
    "df3 = pd.DataFrame(d3)\n",
    "print(df3)"
   ]
  },
  {
   "cell_type": "markdown",
   "metadata": {},
   "source": [
    "Для получения сводной информации по созданному DataFrame можно\n",
    "использовать функцию info(). Она выводит данные о типе структуры,\n",
    "количестве записей, количестве non-null элементов в столбцах, типы и\n",
    "количество хранимых элементов и объем используемой памяти:"
   ]
  },
  {
   "cell_type": "code",
   "execution_count": 12,
   "metadata": {},
   "outputs": [
    {
     "name": "stdout",
     "output_type": "stream",
     "text": [
      "<class 'pandas.core.frame.DataFrame'>\n",
      "RangeIndex: 2 entries, 0 to 1\n",
      "Data columns (total 2 columns):\n",
      "price    2 non-null int64\n",
      "count    2 non-null int64\n",
      "dtypes: int64(2)\n",
      "memory usage: 96.0 bytes\n",
      "None\n"
     ]
    }
   ],
   "source": [
    "print(df3.info())"
   ]
  },
  {
   "cell_type": "markdown",
   "metadata": {},
   "source": [
    "________________________________________________________\n",
    "Создание DataFrame из двумерного массива\n",
    "--------------------------------------------------------\n",
    "Создать DataFrame можно также и из двумерного массива, в нашем\n",
    "примере это будет ndarray из библиотеки numpy:"
   ]
  },
  {
   "cell_type": "code",
   "execution_count": 13,
   "metadata": {},
   "outputs": [
    {
     "name": "stdout",
     "output_type": "stream",
     "text": [
      "    0   1   2\n",
      "0   1   2   3\n",
      "1  10  20  30\n"
     ]
    }
   ],
   "source": [
    "nda1 = np.array([[1, 2, 3], [10, 20, 30]])\n",
    "df4 = pd.DataFrame(nda1)\n",
    "print(df4)"
   ]
  },
  {
   "cell_type": "raw",
   "metadata": {},
   "source": [
    "__________________________________________________\n",
    " Работа с элементами DataFrame.\n",
    "----------------------------------------------------\n",
    "Рассмотрим наиболее часто\n",
    "используемые подходы для доступа к элементам структуры.\n",
    "\n",
    "Работа с элементами DataFrame.\n",
    "_________________________________________________________________\n",
    "| Операция                |Синтаксис    | Возвращаемый результат|\n",
    "|_______________________________________________________________|\n",
    "| Выбор столбца           |df[col]      | Series                |\n",
    "|_______________________________________________________________|\n",
    "| Выбор строки по метке   |df.loc[label]| Series                |\n",
    "|_______________________________________________________________|\n",
    "| Выбор строки по индексу |df.iloc[loc] | Series                |\n",
    "|_______________________________________________________________|\n",
    "| Срез по строкам         |df[0:4]      | DataFrame             |\n",
    "|_______________________________________________________________|\n",
    "| Выбор строк, отвечающих |             |                       |\n",
    "| условию                 |df[bool_vec] | DataFrame             |\n",
    "_________________________________________________________________\n",
    "Рассмотрим работу с данными операциями на практике. Для начала\n",
    "создадим DataFrame:"
   ]
  },
  {
   "cell_type": "code",
   "execution_count": 15,
   "metadata": {},
   "outputs": [
    {
     "name": "stdout",
     "output_type": "stream",
     "text": [
      "   price  count\n",
      "a      1     10\n",
      "b      2     20\n",
      "c      3     30\n"
     ]
    }
   ],
   "source": [
    "d = {'price':np.array([1, 2, 3]), 'count': np.array([10, 20, 30])}\n",
    "df = pd.DataFrame(d, index=['a', 'b', 'c'])\n",
    "print(df)"
   ]
  },
  {
   "cell_type": "code",
   "execution_count": 22,
   "metadata": {},
   "outputs": [
    {
     "data": {
      "text/plain": [
       "a    10\n",
       "b    20\n",
       "c    30\n",
       "Name: count, dtype: int32"
      ]
     },
     "execution_count": 22,
     "metadata": {},
     "output_type": "execute_result"
    }
   ],
   "source": [
    "#Операция: выбор столбца:\n",
    "df['count']"
   ]
  },
  {
   "cell_type": "code",
   "execution_count": 21,
   "metadata": {},
   "outputs": [
    {
     "data": {
      "text/plain": [
       "price     1\n",
       "count    10\n",
       "Name: a, dtype: int32"
      ]
     },
     "execution_count": 21,
     "metadata": {},
     "output_type": "execute_result"
    }
   ],
   "source": [
    "#Операция: выбор строки по метке:\n",
    "df.loc['a']"
   ]
  },
  {
   "cell_type": "code",
   "execution_count": 19,
   "metadata": {},
   "outputs": [
    {
     "data": {
      "text/plain": [
       "price     2\n",
       "count    20\n",
       "Name: b, dtype: int32"
      ]
     },
     "execution_count": 19,
     "metadata": {},
     "output_type": "execute_result"
    }
   ],
   "source": [
    "#Операция: выбор строки по индексу:\n",
    "df.iloc[1]"
   ]
  },
  {
   "cell_type": "code",
   "execution_count": 23,
   "metadata": {},
   "outputs": [
    {
     "data": {
      "text/html": [
       "<div>\n",
       "<style scoped>\n",
       "    .dataframe tbody tr th:only-of-type {\n",
       "        vertical-align: middle;\n",
       "    }\n",
       "\n",
       "    .dataframe tbody tr th {\n",
       "        vertical-align: top;\n",
       "    }\n",
       "\n",
       "    .dataframe thead th {\n",
       "        text-align: right;\n",
       "    }\n",
       "</style>\n",
       "<table border=\"1\" class=\"dataframe\">\n",
       "  <thead>\n",
       "    <tr style=\"text-align: right;\">\n",
       "      <th></th>\n",
       "      <th>price</th>\n",
       "      <th>count</th>\n",
       "    </tr>\n",
       "  </thead>\n",
       "  <tbody>\n",
       "    <tr>\n",
       "      <td>a</td>\n",
       "      <td>1</td>\n",
       "      <td>10</td>\n",
       "    </tr>\n",
       "    <tr>\n",
       "      <td>b</td>\n",
       "      <td>2</td>\n",
       "      <td>20</td>\n",
       "    </tr>\n",
       "  </tbody>\n",
       "</table>\n",
       "</div>"
      ],
      "text/plain": [
       "   price  count\n",
       "a      1     10\n",
       "b      2     20"
      ]
     },
     "execution_count": 23,
     "metadata": {},
     "output_type": "execute_result"
    }
   ],
   "source": [
    "#Операция: срез по строкам:\n",
    "df[0:2]"
   ]
  },
  {
   "cell_type": "code",
   "execution_count": 24,
   "metadata": {},
   "outputs": [
    {
     "data": {
      "text/html": [
       "<div>\n",
       "<style scoped>\n",
       "    .dataframe tbody tr th:only-of-type {\n",
       "        vertical-align: middle;\n",
       "    }\n",
       "\n",
       "    .dataframe tbody tr th {\n",
       "        vertical-align: top;\n",
       "    }\n",
       "\n",
       "    .dataframe thead th {\n",
       "        text-align: right;\n",
       "    }\n",
       "</style>\n",
       "<table border=\"1\" class=\"dataframe\">\n",
       "  <thead>\n",
       "    <tr style=\"text-align: right;\">\n",
       "      <th></th>\n",
       "      <th>price</th>\n",
       "      <th>count</th>\n",
       "    </tr>\n",
       "  </thead>\n",
       "  <tbody>\n",
       "    <tr>\n",
       "      <td>b</td>\n",
       "      <td>2</td>\n",
       "      <td>20</td>\n",
       "    </tr>\n",
       "    <tr>\n",
       "      <td>c</td>\n",
       "      <td>3</td>\n",
       "      <td>30</td>\n",
       "    </tr>\n",
       "  </tbody>\n",
       "</table>\n",
       "</div>"
      ],
      "text/plain": [
       "   price  count\n",
       "b      2     20\n",
       "c      3     30"
      ]
     },
     "execution_count": 24,
     "metadata": {},
     "output_type": "execute_result"
    }
   ],
   "source": [
    "#Операция: выбор строк, отвечающих условию:\n",
    "df[df['count'] >= 20]"
   ]
  }
 ],
 "metadata": {
  "kernelspec": {
   "display_name": "Python 3",
   "language": "python",
   "name": "python3"
  },
  "language_info": {
   "codemirror_mode": {
    "name": "ipython",
    "version": 3
   },
   "file_extension": ".py",
   "mimetype": "text/x-python",
   "name": "python",
   "nbconvert_exporter": "python",
   "pygments_lexer": "ipython3",
   "version": "3.7.4"
  }
 },
 "nbformat": 4,
 "nbformat_minor": 2
}
